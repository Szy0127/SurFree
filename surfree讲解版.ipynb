{
 "cells": [
  {
   "cell_type": "markdown",
   "metadata": {},
   "source": [
    "# SurFree: a fast surrogate-free black-box attack\n",
    "论文：https://arxiv.org/abs/2011.12807v1  \n",
    "代码：https://github.com/t-maho/SurFree  \n",
    "参考某公众号文章：https://mp.weixin.qq.com/s/ooLe3TRWm_YjhzYfB4bYLg"
   ]
  },
  {
   "cell_type": "markdown",
   "metadata": {},
   "source": [
    "![none](./算法推导1.jpg)"
   ]
  },
  {
   "cell_type": "markdown",
   "metadata": {},
   "source": [
    "![jupyter](./算法推导2.jpg)"
   ]
  },
  {
   "cell_type": "markdown",
   "metadata": {},
   "source": [
    "### 用mnist数据集训练一个简单的神经网络"
   ]
  },
  {
   "cell_type": "code",
   "execution_count": 1,
   "metadata": {},
   "outputs": [],
   "source": [
    "from torchvision.datasets import mnist,CIFAR10\n",
    "from torchvision import transforms\n",
    "from torch.utils.data import DataLoader\n",
    "from torchvision.models import resnet18\n",
    "import matplotlib.pyplot as plt\n",
    "import numpy as np\n",
    "import torch"
   ]
  },
  {
   "cell_type": "code",
   "execution_count": 2,
   "metadata": {},
   "outputs": [],
   "source": [
    "import torch.nn.functional as F\n",
    "from torch import nn\n",
    "\n",
    "class CNN(nn.Module):\n",
    "    def __init__(self):\n",
    "        super().__init__()\n",
    "        self.conv1 = nn.Conv2d(in_channels=1,out_channels=4,kernel_size=5,stride=1,padding=2)#1*28*28->4*28*28->4*14*14          \n",
    "        self.conv2 = nn.Conv2d(4,8,5,padding=2)#4*14*14->8*14*14->8*7*7\n",
    "        self.fc1 = nn.Linear(8*7*7,500)\n",
    "        self.fc2 = nn.Linear(500,10)\n",
    "        self.pool = nn.MaxPool2d(kernel_size=2,stride=2)  \n",
    "        self.dropout = nn.Dropout(0.5)\n",
    "        \n",
    "    def forward(self, x):#64*1*28*28\n",
    "        x = F.relu(self.conv1(x))#64*4*28*28\n",
    "        x = self.pool(x)#64*4*14*14\n",
    "        x = F.relu(self.conv2(x))#64*8*14*14\n",
    "        x = self.pool(x)#64*8*7*7\n",
    "        #x = x.view(-1,8*7*7)\n",
    "        x = x.view(x.shape[0],-1)\n",
    "        x = F.relu(self.fc1(x))#64*500\n",
    "        x = self.dropout(x)#64*500\n",
    "        x = self.fc2(x)#64*10\n",
    "        x = F.softmax(x,dim=1)#64*10\n",
    "        return x\n",
    "class ResNet(nn.Module):\n",
    "    def __init__(self):\n",
    "        super().__init__()\n",
    "        self.model = resnet18(pretrained=True)\n",
    "        self.model.fc = nn.Linear(self.model.fc.in_features,10)\n",
    "    def forward(self,x):\n",
    "        return self.model(x)\n",
    "    \n",
    "def save(model,path):\n",
    "    if 'Cifar' in path:\n",
    "        torch.save(model.model.state_dict(), path)\n",
    "    else:\n",
    "        torch.save(model.state_dict(), path)\n",
    "\n",
    "def load(model,path):\n",
    "    if 'Cifar' in path:\n",
    "        model = model.model\n",
    "    model.load_state_dict(torch.load(path))\n",
    "    model.eval()\n",
    "    return model"
   ]
  },
  {
   "cell_type": "code",
   "execution_count": 3,
   "metadata": {},
   "outputs": [],
   "source": [
    "def load_setup(dataset):\n",
    "    train_batch_size = 64\n",
    "    test_batch_size = 64\n",
    "    if dataset == 'mnist':\n",
    "        transform = transforms.ToTensor()\n",
    "        trainSet = mnist.MNIST('./data', train=True, transform=transform, download=True)\n",
    "        testSet = mnist.MNIST('./data', train=False, transform=transform)\n",
    "        trainLoader = DataLoader(trainSet, batch_size=train_batch_size, shuffle=True)\n",
    "        testLoader = DataLoader(testSet, batch_size=test_batch_size, shuffle=False)\n",
    "        classes = ('0','1','2','3','4','5','6','7','8','9')\n",
    "        model = CNN()\n",
    "        path = 'CNNforMnist'\n",
    "    elif dataset == 'cifar10':\n",
    "        tf = transforms.Compose([transforms.Resize(224),transforms.ToTensor()])\n",
    "        trainSet = CIFAR10(root='./data', train=True,download=True, transform=tf)\n",
    "        testSet = CIFAR10(root='./data', train=False,download=True, transform=tf)\n",
    "        trainLoader = DataLoader(trainSet, batch_size=train_batch_size,shuffle=True)\n",
    "        testLoader = DataLoader(testSet, batch_size=test_batch_size,shuffle=False)\n",
    "        classes = ('plane', 'car', 'bird', 'cat','deer', 'dog', 'frog', 'horse', 'ship', 'truck')\n",
    "        model = ResNet()\n",
    "        path = 'resnet18forCifar10'\n",
    "    return trainSet,trainLoader,testLoader,classes,model,path"
   ]
  },
  {
   "cell_type": "code",
   "execution_count": 4,
   "metadata": {
    "scrolled": true
   },
   "outputs": [],
   "source": [
    "dataset = 'mnist'\n",
    "#dataset = 'cifar10'\n",
    "trainSet,trainLoader,testLoader,classes,model,path = load_setup(dataset)"
   ]
  },
  {
   "cell_type": "code",
   "execution_count": 5,
   "metadata": {},
   "outputs": [
    {
     "data": {
      "image/png": "[encoded data removed]",
      "text/plain": [
       "<Figure size 432x288 with 1 Axes>"
      ]
     },
     "metadata": {},
     "output_type": "display_data"
    }
   ],
   "source": [
    "import matplotlib.pyplot as plt\n",
    "import numpy as np\n",
    "\n",
    "def show(img):\n",
    "    npimg  = img.clone().detach().numpy()\n",
    "    shape = npimg.shape\n",
    "    #npimg = (npimg.reshape(shape[0],-1) * np.array(std).reshape(-1,1)+np.array(mean).reshape(-1,1)).reshape(shape)\n",
    "    plt.xticks([])\n",
    "    plt.yticks([])\n",
    "    plt.title(f'predict:{classes[model(img.unsqueeze(0)).max(1)[1].item()]}')\n",
    "    plt.imshow(np.transpose(npimg, (1, 2, 0)))\n",
    "\n",
    "image,label = trainSet[0]\n",
    "show(image)"
   ]
  },
  {
   "cell_type": "code",
   "execution_count": 7,
   "metadata": {},
   "outputs": [],
   "source": [
    "import torch\n",
    "from torch.optim import Adam\n",
    "from torch.nn import CrossEntropyLoss\n",
    "def train(model,trainLoader,testLoader):\n",
    "    print('----train start----')\n",
    "    epoch = 5\n",
    "    device = torch.device(\"cuda:0\")\n",
    "    model.to(device)\n",
    "    loss_func = CrossEntropyLoss()\n",
    "    optimizer = Adam(model.parameters())\n",
    "    \n",
    "    trainAccuracy = 0\n",
    "    testAccuracy = 0\n",
    "\n",
    "    for i in range(epoch):\n",
    "        model.train()\n",
    "        for image, label in trainLoader:\n",
    "            image=image.to(device)\n",
    "            label = label.to(device)\n",
    "            out = model(image)\n",
    "            loss = loss_func(out, label)\n",
    "            optimizer.zero_grad()\n",
    "            loss.backward()\n",
    "            optimizer.step()\n",
    "\n",
    "            predict = out.max(1)[1]\n",
    "            trainAccuracy += (predict == label).sum().item()\n",
    "\n",
    "        trainAccuracy/=len(trainLoader.dataset)\n",
    "\n",
    "        with torch.no_grad():\n",
    "            model.eval()\n",
    "            for image, label in testLoader:\n",
    "                image=image.to(device)\n",
    "                label = label.to(device)\n",
    "                out = model(image)\n",
    "\n",
    "                predict = out.max(1)[1]\n",
    "                testAccuracy += (predict == label).sum().item()\n",
    "\n",
    "            testAccuracy/=len(testLoader.dataset)\n",
    "\n",
    "        print(f'epoch:{i}  Train Accuracy:{trainAccuracy*100:.1f}%  Test Accuracy:{testAccuracy*100:.1f}%')\n",
    "    print('----train finish----')\n",
    "    return model.to('cpu')"
   ]
  },
  {
   "cell_type": "code",
   "execution_count": 323,
   "metadata": {},
   "outputs": [
    {
     "name": "stdout",
     "output_type": "stream",
     "text": [
      "----train start----\n",
      "epoch:0  Train Accuracy:96.4%  Test Accuracy:88.4%\n",
      "epoch:1  Train Accuracy:97.4%  Test Accuracy:90.5%\n",
      "epoch:2  Train Accuracy:97.9%  Test Accuracy:89.5%\n",
      "epoch:3  Train Accuracy:98.1%  Test Accuracy:89.7%\n",
      "epoch:4  Train Accuracy:98.4%  Test Accuracy:89.4%\n",
      "----train finish----\n"
     ]
    }
   ],
   "source": [
    "model = train(model,trainLoader,testLoader)\n",
    "save(model,path)"
   ]
  },
  {
   "cell_type": "code",
   "execution_count": 6,
   "metadata": {},
   "outputs": [],
   "source": [
    "model = load(model,path)"
   ]
  },
  {
   "cell_type": "markdown",
   "metadata": {},
   "source": [
    "# 开始进行对抗攻击"
   ]
  },
  {
   "cell_type": "markdown",
   "metadata": {},
   "source": [
    "## 找一个预测正确的图片作为原始图片 根据其生成对抗样本"
   ]
  },
  {
   "cell_type": "code",
   "execution_count": 7,
   "metadata": {},
   "outputs": [],
   "source": [
    "def is_adversarial(shape,xo,x,model):\n",
    "    xo = xo.reshape(1,*shape)\n",
    "    x = x.reshape(1,*shape)\n",
    "    return model(xo).max(1)[1].item() != model(x).max(1)[1].item()"
   ]
  },
  {
   "cell_type": "code",
   "execution_count": 8,
   "metadata": {},
   "outputs": [],
   "source": [
    "def l2_norm_distance(x1,x2):\n",
    "    d = np.linalg.norm(x1-x2,axis=1)\n",
    "    return np.linalg.norm(d)"
   ]
  },
  {
   "cell_type": "code",
   "execution_count": 20,
   "metadata": {},
   "outputs": [
    {
     "name": "stdout",
     "output_type": "stream",
     "text": [
      "真实:7\n"
     ]
    },
    {
     "data": {
      "image/png": "[encoded data removed]",
      "text/plain": [
       "<Figure size 432x288 with 1 Axes>"
      ]
     },
     "metadata": {},
     "output_type": "display_data"
    }
   ],
   "source": [
    "index = torch.randint(0,len(trainSet),(1,)).item()\n",
    "xo = trainSet[index][0]\n",
    "shape = xo.shape\n",
    "y_true = trainSet[index][1]\n",
    "pre = model(xo.unsqueeze(0)).max(1)[1].item()\n",
    "show(xo)\n",
    "print(f'真实:{classes[y_true]}')"
   ]
  },
  {
   "cell_type": "markdown",
   "metadata": {},
   "source": [
    "## 随机生成一个噪声或其他图片(分类与原始图片不同)"
   ]
  },
  {
   "cell_type": "code",
   "execution_count": 21,
   "metadata": {
    "scrolled": true
   },
   "outputs": [
    {
     "name": "stdout",
     "output_type": "stream",
     "text": [
      "1\n"
     ]
    },
    {
     "data": {
      "image/png": "[encoded data removed]",
      "text/plain": [
       "<Figure size 432x288 with 1 Axes>"
      ]
     },
     "metadata": {},
     "output_type": "display_data"
    }
   ],
   "source": [
    "while True:\n",
    "    index = torch.randint(0,len(trainSet),(1,)).item()\n",
    "    y_adv = trainSet[index][1]\n",
    "    if y_adv !=y_true:\n",
    "        break\n",
    "y0 = trainSet[index][0]\n",
    "show(y0)\n",
    "print(classes[y_adv])"
   ]
  },
  {
   "cell_type": "markdown",
   "metadata": {},
   "source": [
    "## 将xo与y0组合为对抗样本 二分搜索找到分类正确与错误的边界(失真最小)"
   ]
  },
  {
   "cell_type": "code",
   "execution_count": 22,
   "metadata": {},
   "outputs": [],
   "source": [
    "threshold = 1e-4\n",
    "low = 0\n",
    "high = 1\n",
    "query = 0\n",
    "d_list = []\n",
    "flag = False\n",
    "while high-low>threshold or not flag:\n",
    "    mid = (low+high)/2\n",
    "    y = mid*xo + (1-mid)*y0\n",
    "    query += 1\n",
    "    d_list.append(l2_norm_distance(y,xo))\n",
    "    if is_adversarial(shape,xo,y,model):\n",
    "        low = mid\n",
    "        flag = True\n",
    "    else:\n",
    "        high = mid\n",
    "        flag = False"
   ]
  },
  {
   "cell_type": "code",
   "execution_count": 23,
   "metadata": {
    "scrolled": false
   },
   "outputs": [
    {
     "name": "stdout",
     "output_type": "stream",
     "text": [
      "0.38946533203125\n"
     ]
    },
    {
     "data": {
      "image/png": "[encoded data removed]",
      "text/plain": [
       "<Figure size 432x288 with 1 Axes>"
      ]
     },
     "metadata": {},
     "output_type": "display_data"
    }
   ],
   "source": [
    "r = mid\n",
    "print(r)\n",
    "xb = r*xo + (1-r)*y0\n",
    "show(xb)"
   ]
  },
  {
   "cell_type": "markdown",
   "metadata": {},
   "source": [
    "## 由于角度未知 论文采用一个个尝试的办法 从设定的最大值逐渐减小 接着二分查找找到边界"
   ]
  },
  {
   "cell_type": "code",
   "execution_count": 24,
   "metadata": {},
   "outputs": [
    {
     "data": {
      "text/plain": [
       "tensor([ 1.0000, -1.0000,  0.6667, -0.6667,  0.3333, -0.3333])"
      ]
     },
     "execution_count": 24,
     "metadata": {},
     "output_type": "execute_result"
    }
   ],
   "source": [
    "theta_max = 30\n",
    "l = 10#二分搜索次数\n",
    "T = 3\n",
    "k = 0.02#找不到theta时 减小theta_max\n",
    "L = 100\n",
    "tao = torch.zeros(2*T)\n",
    "for i in range(2*T):\n",
    "    if i%2:\n",
    "        tao[i] = -(T-(i-1)/2)/T\n",
    "    else:\n",
    "        tao[i] = (T-i/2)/T\n",
    "tao"
   ]
  },
  {
   "cell_type": "markdown",
   "metadata": {},
   "source": [
    "## 初始化\n",
    "根据二分搜索找到的第一个边界对抗样本xb及原始图片xo生成单位向量u1  \n",
    "利用施密特正交化方法 根据随机向量t1生成一个与u1正交的随机单位向量v1  "
   ]
  },
  {
   "cell_type": "code",
   "execution_count": 25,
   "metadata": {},
   "outputs": [],
   "source": [
    "shape = xo.shape\n",
    "xo = xo.flatten(1)\n",
    "xb = xb.flatten(1)\n",
    "channel = xo.shape[0]\n",
    "D = xo.shape[1]\n",
    "x = xb"
   ]
  },
  {
   "cell_type": "markdown",
   "metadata": {},
   "source": [
    "## 此论文中的施密特正交化 \n",
    "前k-1个向量:v1 v2 ... vk-1 已经正交化 不需要变  \n",
    "uk得到uk_  \n",
    "tk得到vk  \n",
    "满足vk随机生成，且与v1 v2 ... vk-1 uk 正交 从而与u1正交  \n",
    "需满足向量的个数小于维度数  "
   ]
  },
  {
   "cell_type": "code",
   "execution_count": 26,
   "metadata": {},
   "outputs": [],
   "source": [
    "def inner_dot(x,y):\n",
    "    dot = x*y\n",
    "    dot = dot.sum(1).reshape(-1,1)\n",
    "    return dot\n",
    "def schmidt(V,uk,tk):\n",
    "    #V是之前生成的标准正交基\n",
    "    uk_ = uk.clone()\n",
    "    vk = tk.clone()\n",
    "    for vi in V:\n",
    "        uk_ -= vi*inner_dot(uk,vi)\n",
    "        vk -= vi*inner_dot(tk,vi)\n",
    "    uk_ /= np.linalg.norm(uk_,axis=1).reshape(-1,1)\n",
    "    vk -= uk_*inner_dot(tk,uk_)\n",
    "    vk /= np.linalg.norm(vk,axis=1).reshape(-1,1)\n",
    "    return vk"
   ]
  },
  {
   "cell_type": "code",
   "execution_count": 27,
   "metadata": {},
   "outputs": [
    {
     "name": "stdout",
     "output_type": "stream",
     "text": [
      "epoch=0,d=6.94\n",
      "epoch=10,d=5.99\n",
      "epoch=20,d=5.54\n",
      "epoch=30,d=5.40\n",
      "epoch=40,d=5.09\n",
      "epoch=50,d=4.99\n",
      "epoch=60,d=4.85\n",
      "epoch=70,d=4.72\n",
      "epoch=80,d=4.63\n",
      "epoch=90,d=4.54\n",
      "epoch=100,d=4.44\n",
      "epoch=110,d=4.36\n",
      "epoch=120,d=4.06\n",
      "epoch=130,d=3.89\n",
      "epoch=140,d=3.76\n",
      "epoch=150,d=3.62\n",
      "epoch=160,d=3.45\n",
      "epoch=170,d=3.34\n",
      "epoch=180,d=3.18\n",
      "epoch=190,d=3.07\n",
      "epoch=200,d=2.96\n",
      "epoch=210,d=2.89\n",
      "epoch=220,d=2.78\n",
      "epoch=230,d=2.69\n",
      "epoch=240,d=2.61\n",
      "epoch=250,d=2.49\n"
     ]
    }
   ],
   "source": [
    "V = []\n",
    "query_limit = 6000\n",
    "d_decrease = []\n",
    "for epoch in range(D-1):\n",
    "    if query > query_limit:\n",
    "        break\n",
    "    d = np.linalg.norm(x-xo,axis=1).reshape(-1,1)\n",
    "    d = torch.Tensor(d)\n",
    "    d_decrease.append(l2_norm_distance(x,xo))\n",
    "    u = (x-xo)/d\n",
    "    success = False\n",
    "    \n",
    "    if epoch%10==0:\n",
    "        print(f'{epoch=},d={l2_norm_distance(x,xo):.2f}')\n",
    "    \n",
    "    while not success:\n",
    "        t = torch.Tensor(np.random.normal(0, 1, (channel,D)))\n",
    "        t = t/np.linalg.norm(t,axis=1).reshape(-1,1)\n",
    "        #根据u生成v\n",
    "        v = schmidt(V,u,t)\n",
    "        V.append(v)\n",
    "        if len(V)>L:\n",
    "            V = V[1:]\n",
    "        #根据u v 生成x\n",
    "        index = 0\n",
    "        while index < 2*T:\n",
    "            t = tao[index]\n",
    "            index += 1\n",
    "            theta = theta_max * t * np.pi / 180\n",
    "            n = np.cos(theta)*u + np.sin(theta)*v\n",
    "            x_ = (d * np.cos(theta)*n+xo).clip(0,1) # 这个公式保证了d是单调减的\n",
    "            query += 1\n",
    "            d_list.append(l2_norm_distance(x_,xo))\n",
    "            if is_adversarial(shape,xo,x_,model):\n",
    "                success = True\n",
    "                x = x_\n",
    "                break\n",
    "        #二分搜索找边界\n",
    "        if success:\n",
    "            t = tao[index-1]\n",
    "            low = t\n",
    "            high = t + np.sign(t)\n",
    "            step = 0\n",
    "            flag = False\n",
    "            while step < l or not flag:\n",
    "                step += 1\n",
    "                mid = (low+high)/2\n",
    "                theta = theta_max * mid * np.pi / 180\n",
    "                n = np.cos(theta)*u + np.sin(theta)*v\n",
    "                x = (d * np.cos(theta)*n+xo).clip(0,1)#clip的范围必须和预处理时归一化的范围一致\n",
    "                query += 1\n",
    "                d_list.append(l2_norm_distance(x_,xo))\n",
    "                if is_adversarial(shape,xo,x,model):\n",
    "                    low = mid\n",
    "                    flag = True\n",
    "                else:\n",
    "                    high = mid\n",
    "                    flag = False\n",
    "            theta_max /= 1-k\n",
    "        else:\n",
    "            theta_max *= 1-k\n",
    "            V.pop()\n",
    "x = x.reshape(shape)"
   ]
  },
  {
   "cell_type": "code",
   "execution_count": 28,
   "metadata": {
    "scrolled": true
   },
   "outputs": [
    {
     "data": {
      "image/png": "[encoded data removed]",
      "text/plain": [
       "<Figure size 432x288 with 1 Axes>"
      ]
     },
     "metadata": {
      "needs_background": "light"
     },
     "output_type": "display_data"
    }
   ],
   "source": [
    "plt.xlabel('Number of queries')\n",
    "plt.ylabel('Distortion')\n",
    "plt.plot(range(len(d_list)),d_list)\n",
    "plt.show()"
   ]
  },
  {
   "cell_type": "code",
   "execution_count": 29,
   "metadata": {
    "scrolled": true
   },
   "outputs": [
    {
     "data": {
      "image/png": "[encoded data removed]",
      "text/plain": [
       "<Figure size 432x288 with 1 Axes>"
      ]
     },
     "metadata": {},
     "output_type": "display_data"
    }
   ],
   "source": [
    "show(x)"
   ]
  },
  {
   "cell_type": "code",
   "execution_count": null,
   "metadata": {},
   "outputs": [],
   "source": []
  },
  {
   "cell_type": "code",
   "execution_count": null,
   "metadata": {},
   "outputs": [],
   "source": []
  },
  {
   "cell_type": "code",
   "execution_count": null,
   "metadata": {},
   "outputs": [],
   "source": []
  }
 ],
 "metadata": {
  "kernelspec": {
   "display_name": "Python[conda newenv]",
   "language": "python",
   "name": "newenv"
  },
  "language_info": {
   "codemirror_mode": {
    "name": "ipython",
    "version": 3
   },
   "file_extension": ".py",
   "mimetype": "text/x-python",
   "name": "python",
   "nbconvert_exporter": "python",
   "pygments_lexer": "ipython3",
   "version": "3.8.5"
  }
 },
 "nbformat": 4,
 "nbformat_minor": 4
}
